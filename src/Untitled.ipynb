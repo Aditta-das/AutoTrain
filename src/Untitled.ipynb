{
 "cells": [
  {
   "cell_type": "code",
   "execution_count": null,
   "metadata": {
    "scrolled": true
   },
   "outputs": [],
   "source": [
    "from engine import AutoDeep\n",
    "AutoDeep(\"G:\\\\Abhishek Thakur\\\\AutoTrain\\\\autodeep\\\\input\\\\heart.csv\", \"G://Abhishek Thakur//AutoTrain//autodeep//input//create_folds.csv\", 5).preprocess_data(\"target\")"
   ]
  },
  {
   "cell_type": "code",
   "execution_count": 1,
   "metadata": {
    "scrolled": false
   },
   "outputs": [
    {
     "data": {
      "text/plain": [
       "'[INFO] Row 303 || Column 14'"
      ]
     },
     "execution_count": 1,
     "metadata": {},
     "output_type": "execute_result"
    }
   ],
   "source": [
    "from engine import AutoDeep\n",
    "a = AutoDeep(\"G:\\\\Abhishek Thakur\\\\AutoTrain\\\\autodeep\\\\input\\\\heart.csv\", \"G://Abhishek Thakur//AutoTrain//autodeep//input//create_folds.csv\", 5, \"target\")\n",
    "a.__len__()"
   ]
  },
  {
   "cell_type": "code",
   "execution_count": 1,
   "metadata": {},
   "outputs": [
    {
     "name": "stdout",
     "output_type": "stream",
     "text": [
      "[WARNING] All Warnings are ignored\n",
      "[INFO] Data Load Complete\n",
      "[INFO] Data Load Complete\n",
      "[INFO] Row 303 || Column 14\n",
      "[INFO] Created New Fold Column\n",
      "[INFO] Data Load Complete\n"
     ]
    },
    {
     "data": {
      "text/html": [
       "<div>\n",
       "<style scoped>\n",
       "    .dataframe tbody tr th:only-of-type {\n",
       "        vertical-align: middle;\n",
       "    }\n",
       "\n",
       "    .dataframe tbody tr th {\n",
       "        vertical-align: top;\n",
       "    }\n",
       "\n",
       "    .dataframe thead th {\n",
       "        text-align: right;\n",
       "    }\n",
       "</style>\n",
       "<table border=\"1\" class=\"dataframe\">\n",
       "  <thead>\n",
       "    <tr style=\"text-align: right;\">\n",
       "      <th></th>\n",
       "      <th>model</th>\n",
       "      <th>best_score</th>\n",
       "      <th>best_params</th>\n",
       "    </tr>\n",
       "  </thead>\n",
       "  <tbody>\n",
       "    <tr>\n",
       "      <th>0</th>\n",
       "      <td>svm</td>\n",
       "      <td>0.825249</td>\n",
       "      <td>{'C': 1, 'kernel': 'linear'}</td>\n",
       "    </tr>\n",
       "    <tr>\n",
       "      <th>1</th>\n",
       "      <td>RandomForest</td>\n",
       "      <td>0.853710</td>\n",
       "      <td>{'criterion': 'gini', 'max_depth': 5, 'max_fea...</td>\n",
       "    </tr>\n",
       "    <tr>\n",
       "      <th>2</th>\n",
       "      <td>LogisticRegression</td>\n",
       "      <td>0.825249</td>\n",
       "      <td>{'C': 1, 'multi_class': 'auto', 'penalty': 'l2...</td>\n",
       "    </tr>\n",
       "    <tr>\n",
       "      <th>3</th>\n",
       "      <td>KNN</td>\n",
       "      <td>0.820930</td>\n",
       "      <td>{'algorithm': 'auto', 'n_neighbors': 15, 'weig...</td>\n",
       "    </tr>\n",
       "    <tr>\n",
       "      <th>4</th>\n",
       "      <td>ExtraTree</td>\n",
       "      <td>0.853821</td>\n",
       "      <td>{'criterion': 'entropy', 'max_features': 'auto...</td>\n",
       "    </tr>\n",
       "    <tr>\n",
       "      <th>5</th>\n",
       "      <td>DecisionTree</td>\n",
       "      <td>0.740310</td>\n",
       "      <td>{'criterion': 'entropy'}</td>\n",
       "    </tr>\n",
       "  </tbody>\n",
       "</table>\n",
       "</div>"
      ],
      "text/plain": [
       "                model  best_score  \\\n",
       "0                 svm    0.825249   \n",
       "1        RandomForest    0.853710   \n",
       "2  LogisticRegression    0.825249   \n",
       "3                 KNN    0.820930   \n",
       "4           ExtraTree    0.853821   \n",
       "5        DecisionTree    0.740310   \n",
       "\n",
       "                                         best_params  \n",
       "0                       {'C': 1, 'kernel': 'linear'}  \n",
       "1  {'criterion': 'gini', 'max_depth': 5, 'max_fea...  \n",
       "2  {'C': 1, 'multi_class': 'auto', 'penalty': 'l2...  \n",
       "3  {'algorithm': 'auto', 'n_neighbors': 15, 'weig...  \n",
       "4  {'criterion': 'entropy', 'max_features': 'auto...  \n",
       "5                           {'criterion': 'entropy'}  "
      ]
     },
     "execution_count": 1,
     "metadata": {},
     "output_type": "execute_result"
    }
   ],
   "source": [
    "from engine import AutoDeep\n",
    "a = AutoDeep(\"G:\\\\Abhishek Thakur\\\\AutoTrain\\\\autodeep\\\\input\\\\heart.csv\", \"G://Abhishek Thakur//AutoTrain//autodeep//input//create_folds.csv\", 5, \"target\", 0.25)\n",
    "a.run()"
   ]
  },
  {
   "cell_type": "code",
   "execution_count": null,
   "metadata": {},
   "outputs": [],
   "source": [
    "import pandas as pd\n",
    "import numpy as np\n",
    "from sklearn import preprocessing\n",
    "import matplotlib\n",
    "import matplotlib.pyplot as plt\n",
    "import seaborn as sns \n",
    "# % matplotlib inline\n",
    "# matplotlib.style.use('fivethirtyeight')\n",
    "  \n",
    "# data\n",
    "x = pd.DataFrame({\n",
    "    # Distribution with lower outliers\n",
    "    'x1': np.concatenate([np.random.normal(20, 2, 1000), np.random.normal(1, 2, 25)]),\n",
    "    # Distribution with higher outliers\n",
    "    'x2': np.concatenate([np.random.normal(30, 2, 1000), np.random.normal(50, 2, 25)]),\n",
    "})\n",
    "np.random.normal\n",
    "  \n",
    "scaler = preprocessing.RobustScaler()\n",
    "robust_df = scaler.fit_transform(x)\n",
    "robust_df = pd.DataFrame(robust_df, columns =['x1', 'x2'])\n",
    "robust_df"
   ]
  },
  {
   "cell_type": "code",
   "execution_count": 1,
   "metadata": {},
   "outputs": [
    {
     "name": "stdout",
     "output_type": "stream",
     "text": [
      "               0\n",
      "569        False\n",
      "30         False\n",
      "malignant  False\n",
      "benign     False\n"
     ]
    }
   ],
   "source": [
    "import default"
   ]
  },
  {
   "cell_type": "code",
   "execution_count": null,
   "metadata": {},
   "outputs": [],
   "source": []
  }
 ],
 "metadata": {
  "kernelspec": {
   "display_name": "Python 3",
   "language": "python",
   "name": "python3"
  },
  "language_info": {
   "codemirror_mode": {
    "name": "ipython",
    "version": 3
   },
   "file_extension": ".py",
   "mimetype": "text/x-python",
   "name": "python",
   "nbconvert_exporter": "python",
   "pygments_lexer": "ipython3",
   "version": "3.7.8"
  }
 },
 "nbformat": 4,
 "nbformat_minor": 4
}
