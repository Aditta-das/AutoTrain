{
 "cells": [
  {
   "cell_type": "code",
   "execution_count": null,
   "metadata": {
    "scrolled": true
   },
   "outputs": [],
   "source": [
    "from engine import AutoDeep\n",
    "AutoDeep(\"G:\\\\Abhishek Thakur\\\\AutoTrain\\\\autodeep\\\\input\\\\heart.csv\", \"G://Abhishek Thakur//AutoTrain//autodeep//input//create_folds.csv\", 5).preprocess_data(\"target\")"
   ]
  },
  {
   "cell_type": "code",
   "execution_count": 1,
   "metadata": {
    "scrolled": false
   },
   "outputs": [
    {
     "data": {
      "text/plain": [
       "'[INFO] Row 303 || Column 14'"
      ]
     },
     "execution_count": 1,
     "metadata": {},
     "output_type": "execute_result"
    }
   ],
   "source": [
    "from engine import AutoDeep\n",
    "a = AutoDeep(\"G:\\\\Abhishek Thakur\\\\AutoTrain\\\\autodeep\\\\input\\\\heart.csv\", \"G://Abhishek Thakur//AutoTrain//autodeep//input//create_folds.csv\", 5, \"target\")\n",
    "a.__len__()"
   ]
  },
  {
   "cell_type": "code",
   "execution_count": null,
   "metadata": {},
   "outputs": [
    {
     "name": "stdout",
     "output_type": "stream",
     "text": [
      "[INFO] Data Load Complete\n",
      "[INFO] Created New Fold Column\n",
      "[INFO] Data Load Complete\n"
     ]
    }
   ],
   "source": [
    "from engine import AutoDeep\n",
    "a = AutoDeep(\"G:\\\\Abhishek Thakur\\\\AutoTrain\\\\autodeep\\\\input\\\\heart.csv\", \"G://Abhishek Thakur//AutoTrain//autodeep//input//create_folds.csv\", 5, \"target\", 0.25)\n",
    "a.run()"
   ]
  },
  {
   "cell_type": "code",
   "execution_count": null,
   "metadata": {},
   "outputs": [],
   "source": [
    "import pandas as pd\n",
    "import numpy as np\n",
    "from sklearn import preprocessing\n",
    "import matplotlib\n",
    "import matplotlib.pyplot as plt\n",
    "import seaborn as sns \n",
    "# % matplotlib inline\n",
    "# matplotlib.style.use('fivethirtyeight')\n",
    "  \n",
    "# data\n",
    "x = pd.DataFrame({\n",
    "    # Distribution with lower outliers\n",
    "    'x1': np.concatenate([np.random.normal(20, 2, 1000), np.random.normal(1, 2, 25)]),\n",
    "    # Distribution with higher outliers\n",
    "    'x2': np.concatenate([np.random.normal(30, 2, 1000), np.random.normal(50, 2, 25)]),\n",
    "})\n",
    "np.random.normal\n",
    "  \n",
    "scaler = preprocessing.RobustScaler()\n",
    "robust_df = scaler.fit_transform(x)\n",
    "robust_df = pd.DataFrame(robust_df, columns =['x1', 'x2'])\n",
    "robust_df"
   ]
  },
  {
   "cell_type": "code",
   "execution_count": null,
   "metadata": {},
   "outputs": [],
   "source": []
  }
 ],
 "metadata": {
  "kernelspec": {
   "display_name": "Python 3",
   "language": "python",
   "name": "python3"
  },
  "language_info": {
   "codemirror_mode": {
    "name": "ipython",
    "version": 3
   },
   "file_extension": ".py",
   "mimetype": "text/x-python",
   "name": "python",
   "nbconvert_exporter": "python",
   "pygments_lexer": "ipython3",
   "version": "3.7.8"
  }
 },
 "nbformat": 4,
 "nbformat_minor": 4
}
