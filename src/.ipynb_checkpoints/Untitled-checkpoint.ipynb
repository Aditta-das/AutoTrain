{
 "cells": [
  {
   "cell_type": "code",
   "execution_count": 1,
   "metadata": {
    "scrolled": false
   },
   "outputs": [
    {
     "ename": "SyntaxError",
     "evalue": "EOL while scanning string literal (engine.py, line 182)",
     "output_type": "error",
     "traceback": [
      "Traceback \u001b[1;36m(most recent call last)\u001b[0m:\n",
      "  File \u001b[0;32m\"c:\\users\\biplob\\appdata\\local\\programs\\python\\python37\\lib\\site-packages\\IPython\\core\\interactiveshell.py\"\u001b[0m, line \u001b[0;32m3417\u001b[0m, in \u001b[0;35mrun_code\u001b[0m\n    exec(code_obj, self.user_global_ns, self.user_ns)\n",
      "\u001b[1;36m  File \u001b[1;32m\"<ipython-input-1-df8e10f878fd>\"\u001b[1;36m, line \u001b[1;32m1\u001b[1;36m, in \u001b[1;35m<module>\u001b[1;36m\u001b[0m\n\u001b[1;33m    import engine\u001b[0m\n",
      "\u001b[1;36m  File \u001b[1;32m\"G:\\AutoTrain\\autodeep\\src\\engine.py\"\u001b[1;36m, line \u001b[1;32m182\u001b[0m\n\u001b[1;33m    print(f\"[RESULT] Test score: {0:.2f} %\".format(score)\")\u001b[0m\n\u001b[1;37m                                                           ^\u001b[0m\n\u001b[1;31mSyntaxError\u001b[0m\u001b[1;31m:\u001b[0m EOL while scanning string literal\n"
     ]
    }
   ],
   "source": [
    "import engine\n",
    "from engine import AutoDeepClassification\n",
    "df = AutoDeepClassification(path=\"../classification/iris.csv\", label=\"Species\", fold=False, save_model_type=\"joblib\")\n",
    "df.train()"
   ]
  },
  {
   "cell_type": "code",
   "execution_count": null,
   "metadata": {},
   "outputs": [],
   "source": [
    "import joblib\n",
    "def load_datafile(filename):\n",
    "    all_file = os.listdir(os.path.join(os.path.dirname(os.getcwd()), \"output\"))\n",
    "    file_type = all_file[0].split('.')[1]\n",
    "    if filename in all_file:\n",
    "        if file_type == \"joblib\":\n",
    "            joblib_model = joblib.load(filename)\n",
    "            a = AutoDeepClassification()\n",
    "            method = getattr(a, train_val_data) \n",
    "            method(a)\n",
    "print(load_datafile(\"G:\\AutoTrain\\autodeep\\output\\svm.joblib\"))"
   ]
  },
  {
   "cell_type": "code",
   "execution_count": null,
   "metadata": {},
   "outputs": [],
   "source": [
    "from sklearn.tree import ExtraTreeClassifier\n",
    "model = ExtraTreeClassifier()\n",
    "model.get_params()"
   ]
  },
  {
   "cell_type": "code",
   "execution_count": null,
   "metadata": {},
   "outputs": [],
   "source": [
    "import os\n",
    "all_file = os.listdir(os.path.join(os.path.dirname(os.getcwd()), \"output\"))\n",
    "all_file[0].split('.')[1]"
   ]
  },
  {
   "cell_type": "code",
   "execution_count": null,
   "metadata": {},
   "outputs": [],
   "source": []
  }
 ],
 "metadata": {
  "kernelspec": {
   "display_name": "Python 3",
   "language": "python",
   "name": "python3"
  },
  "language_info": {
   "codemirror_mode": {
    "name": "ipython",
    "version": 3
   },
   "file_extension": ".py",
   "mimetype": "text/x-python",
   "name": "python",
   "nbconvert_exporter": "python",
   "pygments_lexer": "ipython3",
   "version": "3.7.8"
  }
 },
 "nbformat": 4,
 "nbformat_minor": 4
}
